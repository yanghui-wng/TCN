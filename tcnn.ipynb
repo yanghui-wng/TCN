{
 "cells": [
  {
   "cell_type": "code",
   "execution_count": 1,
   "metadata": {},
   "outputs": [],
   "source": [
    "import numpy\n",
    "import pandas\n",
    "import tensorflow\n",
    "from math import sqrt\n",
    "from numpy import concatenate\n",
    "from matplotlib import pyplot\n",
    "from pandas import read_csv\n",
    "from pandas import DataFrame\n",
    "from pandas import concat\n",
    "from sklearn.preprocessing import MinMaxScaler\n",
    "from sklearn.preprocessing import LabelEncoder\n",
    "from sklearn.model_selection import KFold  \n",
    "from sklearn.metrics import mean_squared_error,r2_score,mean_absolute_error\n",
    "from tensorflow.keras import models,layers,utils\n",
    "from tensorflow.keras.models import Sequential\n",
    "from tensorflow.keras.layers import Dense,LSTM,Dropout,Activation,Flatten,Bidirectional,Conv1D,MaxPooling1D,LeakyReLU\n",
    "import os\n",
    "from tcn import TCN,tcn_full_summary\n",
    "from tensorflow.keras import Input"
   ]
  },
  {
   "cell_type": "code",
   "execution_count": 2,
   "metadata": {},
   "outputs": [],
   "source": [
    "# MAPE SMAPE\n",
    "from numpy import mean\n",
    "def maped(y_true, y_pred):\n",
    "  return mean(abs((y_pred - y_true) / y_true)) * 100\n",
    "def smape(y_true, y_pred):\n",
    "  return 2.0 * mean(abs(y_pred - y_true) / (abs(y_pred) + abs(y_true))) * 100\n",
    "\n",
    "os.environ[\"CUDA_VISIBLE_DEVICES\"] = \"0\"\n",
    "physical_gpus = tensorflow.config.list_physical_devices(\"GPU\")\n",
    "tensorflow.config.experimental.set_virtual_device_configuration(\n",
    "    physical_gpus[0],\n",
    "    [tensorflow.config.experimental.VirtualDeviceConfiguration(memory_limit=4000)]\n",
    ")\n",
    "logical_gpus = tensorflow.config.list_logical_devices(\"GPU\")\n",
    "\n",
    "# convert series to supervised learning\n",
    "def series_to_supervised(data, n_in=1, n_out=1, dropnan=True):\n",
    "    n_vars = 1 if type(data) is list else data.shape[1]\n",
    "    df = DataFrame(data)\n",
    "    cols, names = list(), list()\n",
    "    # input sequence (t-n, ... t-1)\n",
    "    for i in range(n_in, 0, -1):\n",
    "        cols.append(df.shift(i))\n",
    "        names += [('var%d(t-%d)' % (j+1, i)) for j in range(n_vars)]\n",
    "    # forecast sequence (t, t+1, ... t+n)\n",
    "    for i in range(0, n_out):\n",
    "        cols.append(df.shift(-i))\n",
    "        if i == 0:\n",
    "            names += [('var%d(t)' % (j+1)) for j in range(n_vars)]\n",
    "        else:\n",
    "            names += [('var%d(t+%d)' % (j+1, i)) for j in range(n_vars)]\n",
    "    # put it all together\n",
    "    agg = concat(cols, axis=1)\n",
    "    agg.columns = names\n",
    "    # drop rows with NaN values\n",
    "    if dropnan:\n",
    "        agg.dropna(inplace=True)\n",
    "    return agg"
   ]
  },
  {
   "cell_type": "code",
   "execution_count": null,
   "metadata": {},
   "outputs": [],
   "source": [
    "# load dataset\n",
    "dataset = read_csv(r\"\\20220511\\20220418.csv\", header=0, index_col=0)\n",
    "values = dataset.values\n",
    "# ensure all data is float\n",
    "values = values.astype('float32')\n",
    "max_value = max(values[:,-1])\n",
    "min_value = min(values[:,-1])\n",
    "# normalize features\n",
    "scaler = MinMaxScaler(feature_range=(0, 1))\n",
    "scaled = scaler.fit_transform(values)\n",
    "# frame as supervised learning\n",
    "reframed = series_to_supervised(scaled, 0, 1)"
   ]
  },
  {
   "cell_type": "code",
   "execution_count": null,
   "metadata": {},
   "outputs": [],
   "source": [
    "# split into train and test sets\n",
    "values = reframed.values\n",
    "n_train = int(values.shape[0])-4740\n",
    "n_validation = int(values.shape[0])-3950\n",
    "n_test1 = int(values.shape[0])-3160\n",
    "\n",
    "train = values[:n_train, :]\n",
    "validation = values[n_train:n_validation, :]\n",
    "test1 = values[n_validation:n_test1, :]\n",
    "\n",
    "# split into input and outputs\n",
    "train_X, train_y = train[:, :-1], train[:, -1]\n",
    "validation_X, validation_y = validation[:, :-1], validation[:, -1]\n",
    "test_X1, test_y1 = test1[:, :-1], test1[:, -1]\n",
    "\n",
    "# reshape input to be 3D [samples, timesteps, features]\n",
    "train_X = train_X.reshape((train_X.shape[0], 1, 7))\n",
    "validation_X = validation_X.reshape((validation_X.shape[0], 1, 7))\n",
    "test_X1 = test_X1.reshape((test_X1.shape[0], 1, 7))"
   ]
  },
  {
   "cell_type": "code",
   "execution_count": 8,
   "metadata": {},
   "outputs": [
    {
     "name": "stdout",
     "output_type": "stream",
     "text": [
      "Model: \"sequential_2\"\n",
      "_________________________________________________________________\n",
      "Layer (type)                 Output Shape              Param #   \n",
      "=================================================================\n",
      "tcn_2 (TCN)                  (None, 100)               153500    \n",
      "_________________________________________________________________\n",
      "dense_8 (Dense)              (None, 64)                6464      \n",
      "_________________________________________________________________\n",
      "leaky_re_lu_8 (LeakyReLU)    (None, 64)                0         \n",
      "_________________________________________________________________\n",
      "dense_9 (Dense)              (None, 32)                2080      \n",
      "_________________________________________________________________\n",
      "leaky_re_lu_9 (LeakyReLU)    (None, 32)                0         \n",
      "_________________________________________________________________\n",
      "dense_10 (Dense)             (None, 16)                528       \n",
      "_________________________________________________________________\n",
      "leaky_re_lu_10 (LeakyReLU)   (None, 16)                0         \n",
      "_________________________________________________________________\n",
      "dense_11 (Dense)             (None, 1)                 17        \n",
      "_________________________________________________________________\n",
      "leaky_re_lu_11 (LeakyReLU)   (None, 1)                 0         \n",
      "=================================================================\n",
      "Total params: 162,589\n",
      "Trainable params: 162,589\n",
      "Non-trainable params: 0\n",
      "_________________________________________________________________\n"
     ]
    }
   ],
   "source": [
    "# design network\n",
    "batch_size = None\n",
    "model = Sequential()\n",
    "input_layer = Input(batch_shape=(batch_size,1,7))\n",
    "model.add(input_layer)\n",
    "model.add(TCN(nb_filters=100, #Integer. The number of filters to use in the convolutional layers. Would be similar to units for LSTM. Can be a list.\n",
    "        kernel_size=3, #Integer. The size of the kernel to use in each convolutional layer.\n",
    "        nb_stacks=1,   #The number of stacks of residual blocks to use.\n",
    "        dilations=(1,2,4), #List/Tuple. A dilation list. Example is: [1, 2, 4, 8, 16, 32, 64].\n",
    "        padding='causal',\n",
    "        use_skip_connections=False, \n",
    "        dropout_rate=0.1,\n",
    "        return_sequences=False,\n",
    "        activation='relu', \n",
    "        kernel_initializer='he_normal', \n",
    "        use_batch_norm=False, \n",
    "        use_layer_norm=False, \n",
    "        ))\n",
    "model.add(Dense(64))\n",
    "model.add(LeakyReLU(alpha=0.3))\n",
    "model.add(Dense(32))\n",
    "model.add(LeakyReLU(alpha=0.3))\n",
    "model.add(Dense(16))\n",
    "model.add(LeakyReLU(alpha=0.3))\n",
    "model.add(Dense(1))\n",
    "model.add(LeakyReLU(alpha=0.3))\n",
    "model.compile(loss='mse', optimizer='adam')\n",
    "model.summary()"
   ]
  },
  {
   "cell_type": "code",
   "execution_count": null,
   "metadata": {},
   "outputs": [],
   "source": [
    "# fit network\n",
    "history = model.fit(train_X, train_y, epochs=250,batch_size=250, validation_data=(validation_X, validation_y), verbose=2, shuffle=False)\n",
    "# plot history\n",
    "pyplot.plot(history.history['loss'], label='train')\n",
    "pyplot.plot(history.history['val_loss'], label='validation')\n",
    "pyplot.legend()\n",
    "pyplot.show()"
   ]
  }
 ],
 "metadata": {
  "kernelspec": {
   "display_name": "Python 3.7.0 ('deeplearning')",
   "language": "python",
   "name": "python3"
  },
  "language_info": {
   "codemirror_mode": {
    "name": "ipython",
    "version": 3
   },
   "file_extension": ".py",
   "mimetype": "text/x-python",
   "name": "python",
   "nbconvert_exporter": "python",
   "pygments_lexer": "ipython3",
   "version": "3.7.0"
  },
  "orig_nbformat": 4,
  "vscode": {
   "interpreter": {
    "hash": "0a6f3d64b215415c8bfd1afb269d00cfb65e64a1a10195edb44fb9e365e96e19"
   }
  }
 },
 "nbformat": 4,
 "nbformat_minor": 2
}
